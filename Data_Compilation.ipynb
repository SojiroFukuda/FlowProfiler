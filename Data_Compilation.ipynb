{
 "cells": [
  {
   "cell_type": "code",
   "execution_count": 1,
   "metadata": {},
   "outputs": [],
   "source": [
    "\"\"\"\n",
    "This jupyter notebook provides the guidance of data compilation procedures. See each .py file for the detailed algorithm\n",
    "\n",
    "data/TC/meta: there is a csv file where all the meta informatinon of each experiments are kept.\n",
    "data/TC/Pape: there are two folders in which the flow profile data of the flume experiments we conducted are kept.\n",
    "Export/: The output files are kept\n",
    "\n",
    "database.py: folder paths and paper referecens are kept.\n",
    "flowprofiler.py: data handling for each run\n",
    "main.py: data handling of each set of experiments\n",
    "figformat.py: for the aesthetics of figures\n",
    "\n",
    "\"\"\"\n",
    "\n",
    "# Packages\n",
    "import database as db # database of ref, path, data, figure, flow parameter handling\n",
    "import main # script for data compilation\n",
    "import os # file management"
   ]
  },
  {
   "cell_type": "code",
   "execution_count": 2,
   "metadata": {},
   "outputs": [
    {
     "name": "stderr",
     "output_type": "stream",
     "text": [
      "/home/sojiro/.local/lib/python3.10/site-packages/scipy/optimize/_minpack_py.py:881: OptimizeWarning: Covariance of the parameters could not be estimated\n",
      "  warnings.warn('Covariance of the parameters could not be estimated',\n",
      "/home/sojiro/.local/lib/python3.10/site-packages/scipy/optimize/_minpack_py.py:881: OptimizeWarning: Covariance of the parameters could not be estimated\n",
      "  warnings.warn('Covariance of the parameters could not be estimated',\n",
      "/home/sojiro/.local/lib/python3.10/site-packages/scipy/optimize/_minpack_py.py:881: OptimizeWarning: Covariance of the parameters could not be estimated\n",
      "  warnings.warn('Covariance of the parameters could not be estimated',\n",
      "/home/sojiro/.local/lib/python3.10/site-packages/scipy/optimize/_minpack_py.py:881: OptimizeWarning: Covariance of the parameters could not be estimated\n",
      "  warnings.warn('Covariance of the parameters could not be estimated',\n"
     ]
    }
   ],
   "source": [
    "# Data compilation of Turbidity Currents\n",
    "refs = db.get_PaperDict() # refs of each source\n",
    "exps = [] # list for the compiled sources\n",
    "for ref in refs:\n",
    "    exp = main.set_exp(ref,db.TC_info,db.TC_Paper_DIR + os.sep + ref + os.sep + db.Coord_dir) # data compilation\n",
    "    result = main.export_results(exp,db.EXPORT_DIR) # export data (profiles, depth-averaged params) into .txt and .csv files\n",
    "    exps.append(exp) "
   ]
  },
  {
   "cell_type": "code",
   "execution_count": 3,
   "metadata": {},
   "outputs": [],
   "source": [
    "# Draw Profiles of Turbidity Currents\n",
    "for exp in exps:\n",
    "    main.draw_profile(exp,db.EXPORT_DIR) # draw interpolated and extrapolated flow profiles and save it to db.EXPORT_DIR"
   ]
  },
  {
   "cell_type": "code",
   "execution_count": null,
   "metadata": {},
   "outputs": [],
   "source": []
  }
 ],
 "metadata": {
  "kernelspec": {
   "display_name": "Python 3.10.6 64-bit",
   "language": "python",
   "name": "python3"
  },
  "language_info": {
   "codemirror_mode": {
    "name": "ipython",
    "version": 3
   },
   "file_extension": ".py",
   "mimetype": "text/x-python",
   "name": "python",
   "nbconvert_exporter": "python",
   "pygments_lexer": "ipython3",
   "version": "3.10.6"
  },
  "orig_nbformat": 4,
  "vscode": {
   "interpreter": {
    "hash": "916dbcbb3f70747c44a77c7bcd40155683ae19c65e1c03b4aa3499c5328201f1"
   }
  }
 },
 "nbformat": 4,
 "nbformat_minor": 2
}
